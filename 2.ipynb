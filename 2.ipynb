{
 "cells": [
  {
   "cell_type": "code",
   "execution_count": null,
   "id": "4e3f0c4b",
   "metadata": {},
   "outputs": [],
   "source": [
    "import matplotlib.pyplot as plt\n",
    "import pandas as pd\n",
    "\n",
    "# 读取Excel文件\n",
    "data = pd.read_excel('temperatue.xlsx', header=None)\n",
    "\n",
    "# 循环每个横向数据\n",
    "for index, row in data.iterrows():\n",
    "    # 获取当前横向数据\n",
    "    horizontal_data = row.values\n",
    "\n",
    "    # 创建折线图\n",
    "    plt.plot(horizontal_data)\n",
    "\n",
    "    # 添加标题和轴标签\n",
    "    plt.title(f'Temperature Trend {index}')\n",
    "    plt.xlabel('Time')\n",
    "    plt.ylabel('Temperature')\n",
    "\n",
    "    # 显示图表\n",
    "    plt.show()\n"
   ]
  }
 ],
 "metadata": {
  "kernelspec": {
   "display_name": "Python 3 (ipykernel)",
   "language": "python",
   "name": "python3"
  },
  "language_info": {
   "codemirror_mode": {
    "name": "ipython",
    "version": 3
   },
   "file_extension": ".py",
   "mimetype": "text/x-python",
   "name": "python",
   "nbconvert_exporter": "python",
   "pygments_lexer": "ipython3",
   "version": "3.11.5"
  }
 },
 "nbformat": 4,
 "nbformat_minor": 5
}
