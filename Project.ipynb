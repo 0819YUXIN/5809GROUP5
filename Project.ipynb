{
 "cells": [
  {
   "cell_type": "code",
   "execution_count": null,
   "id": "27c9bfb0",
   "metadata": {},
   "outputs": [],
   "source": [
    "1、Generation of line graphs of precipitation changes in the Great Barrier Reef marine area (2012-2022)  \n",
    "\n",
    "2、Generation of line graphs of temperature change in the Great Barrier Reef sea area (2012-2022)  \n",
    "\n",
    "3、Generate a graph of the distribution of phosphorus concentrations in Great Barrier Reef water \n",
    "\n",
    "import matplotlib.pyplot as plt。\n",
    "import pandas as pd  \n",
    "data = pd.read_csv('covstack.csv', encoding='gbk')\n",
    "# Extract the phosphorus concentration column\n",
    "phosphorus = data['PH']\n",
    "# Create a histogram\n",
    "plt.hist(phosphorus, bins=10, edgecolor='black')\n",
    "\n",
    "# Add labels and title\n",
    "plt.xlabel('Phosphorus Concentration')\n",
    "plt.ylabel('Frequency')\n",
    "plt.title('Distribution of Phosphorus Concentrations in Great Barrier Reef Water')\n",
    "\n",
    "# Display the graph\n",
    "plt.show()\n",
    "\n",
    "\n",
    "\n"
   ]
  }
 ],
 "metadata": {
  "kernelspec": {
   "display_name": "Python 3 (ipykernel)",
   "language": "python",
   "name": "python3"
  },
  "language_info": {
   "codemirror_mode": {
    "name": "ipython",
    "version": 3
   },
   "file_extension": ".py",
   "mimetype": "text/x-python",
   "name": "python",
   "nbconvert_exporter": "python",
   "pygments_lexer": "ipython3",
   "version": "3.11.5"
  }
 },
 "nbformat": 4,
 "nbformat_minor": 5
}
